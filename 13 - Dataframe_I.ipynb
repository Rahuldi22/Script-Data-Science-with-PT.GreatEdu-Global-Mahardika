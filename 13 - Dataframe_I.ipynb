{
  "nbformat": 4,
  "nbformat_minor": 0,
  "metadata": {
    "colab": {
      "provenance": [],
      "toc_visible": true
    },
    "kernelspec": {
      "name": "python3",
      "display_name": "Python 3"
    },
    "language_info": {
      "name": "python"
    }
  },
  "cells": [
    {
      "cell_type": "code",
      "execution_count": null,
      "metadata": {
        "id": "6v2wEMztcUQl"
      },
      "outputs": [],
      "source": [
        "import pandas as pd\n",
        "\n",
        "#untuk dapat melihat seluruh kolom dan baris\n",
        "pd.set_option('display.max_columns', None)\n",
        "pd.set_option('display.max_rows', None)"
      ]
    },
    {
      "cell_type": "markdown",
      "source": [
        "# Read TransJakarta Transaction Data\n",
        "\n",
        "source: https://www.kaggle.com/datasets/dikisahkan/transjakarta-transportation-transaction"
      ],
      "metadata": {
        "id": "GyCrtxZKWSbo"
      }
    },
    {
      "cell_type": "code",
      "source": [
        "df= pd.read_csv(\"/content/drive/MyDrive/.../dfTransjakarta.csv\")\n"
      ],
      "metadata": {
        "id": "gUyM7FkRWRit"
      },
      "execution_count": null,
      "outputs": []
    },
    {
      "cell_type": "code",
      "source": [
        "#check dimensi data\n",
        "df.shape\n",
        "#len(df)"
      ],
      "metadata": {
        "id": "eaUGCrZHWiPJ"
      },
      "execution_count": null,
      "outputs": []
    },
    {
      "cell_type": "code",
      "source": [
        "#tampilkan top 5 data\n",
        "df.head(5)"
      ],
      "metadata": {
        "id": "kX349T-vWsh1"
      },
      "execution_count": null,
      "outputs": []
    },
    {
      "cell_type": "code",
      "source": [
        "#tampilkan data secara random\n",
        "df.sample(5)"
      ],
      "metadata": {
        "id": "FRjL8LRYZMfj"
      },
      "execution_count": null,
      "outputs": []
    },
    {
      "cell_type": "markdown",
      "source": [
        "#SORTING DATAFRAME"
      ],
      "metadata": {
        "id": "wVtQZFvxZwLl"
      }
    },
    {
      "cell_type": "markdown",
      "source": [
        "## sort_values()"
      ],
      "metadata": {
        "id": "JPVryBssgR2F"
      }
    },
    {
      "cell_type": "code",
      "source": [
        "#urutkan berdasarkan salah satu kolom\n",
        "df.sort_values('payCardBirthDate').head()\n",
        "\n",
        "df.sort_values(by=['payCardBirthDate']).head()"
      ],
      "metadata": {
        "id": "OXfsUKNwZuQA"
      },
      "execution_count": null,
      "outputs": []
    },
    {
      "cell_type": "code",
      "source": [
        "#urutkan berdasarkan salah satu kolom, descending\n",
        "df.sort_values('payCardBirthDate', ascending=False).head()"
      ],
      "metadata": {
        "id": "TTiu671oggUj"
      },
      "execution_count": null,
      "outputs": []
    },
    {
      "cell_type": "code",
      "source": [
        "#sorting dengan mengabaikan index\n",
        "df.sort_values(by='payCardBirthDate',ascending=False, ignore_index=True).head()"
      ],
      "metadata": {
        "id": "6pAZ2nd2lY5Z"
      },
      "execution_count": null,
      "outputs": []
    },
    {
      "cell_type": "code",
      "source": [
        "#perintah sort_values default tidak mengganti data awal\n",
        "df.head()"
      ],
      "metadata": {
        "id": "jZ-P3I8oaPPB"
      },
      "execution_count": null,
      "outputs": []
    },
    {
      "cell_type": "code",
      "source": [
        "#sorting dengan mengganti dataframe\n",
        "df.sort_values('payCardBirthDate', inplace=True)\n",
        "df.head()"
      ],
      "metadata": {
        "id": "izDPZHJbg8_2"
      },
      "execution_count": null,
      "outputs": []
    },
    {
      "cell_type": "code",
      "source": [
        "#sorting dengan banyak kolom\n",
        "df.sort_values(by=['payCardBirthDate','payCardName']).head()"
      ],
      "metadata": {
        "id": "VlImsSagh52P"
      },
      "execution_count": null,
      "outputs": []
    },
    {
      "cell_type": "code",
      "source": [
        "#sorting dengan banyak kolom dengan urutan berbeda\n",
        "df.sort_values(by=['payCardBirthDate','payCardName'],\n",
        "               ascending=[True, False]).head()"
      ],
      "metadata": {
        "id": "ryaZ9hJKiWj7"
      },
      "execution_count": null,
      "outputs": []
    },
    {
      "cell_type": "code",
      "source": [
        "#menampilkan data kosong terlebih dahulu\n",
        "df.sort_values('corridorID',na_position='first').head()"
      ],
      "metadata": {
        "id": "V_F5WUNPjqqP"
      },
      "execution_count": null,
      "outputs": []
    },
    {
      "cell_type": "markdown",
      "source": [
        "## sort_index()"
      ],
      "metadata": {
        "id": "MOJk9ZBalMl5"
      }
    },
    {
      "cell_type": "code",
      "source": [
        "#mengurutkan nama kolom\n",
        "df.sort_index(axis=1).head(5)"
      ],
      "metadata": {
        "id": "wx436ouDlP94"
      },
      "execution_count": null,
      "outputs": []
    },
    {
      "cell_type": "code",
      "source": [
        "#menyimpan hasil sorting ke dataframe baru\n",
        "sorted_df = df.sort_values('payCardBirthDate')\n",
        "sorted_df.head()"
      ],
      "metadata": {
        "id": "NKdGB8OLmdiT"
      },
      "execution_count": null,
      "outputs": []
    },
    {
      "cell_type": "code",
      "source": [
        "#menampilkan data sesuai index awal\n",
        "sorted_df.sort_index().head()"
      ],
      "metadata": {
        "id": "N-JKhe8omu_k"
      },
      "execution_count": null,
      "outputs": []
    },
    {
      "cell_type": "code",
      "source": [
        "#sort index pada multilevel dataframe\n",
        "l = [[1,'A',99],[1,'B',102],[1,'C',105],[1,'D',97],[2,'A',19],[2,'B',14],[2,'C',10],[2,'D',17]]\n",
        "df_multi = pd.DataFrame(l,columns = ['idx1','idx2','col1'])\n",
        "df_multi.set_index(['idx1','idx2'],inplace=True)\n",
        "df_multi"
      ],
      "metadata": {
        "id": "vJXy2pBwqWsz"
      },
      "execution_count": null,
      "outputs": []
    },
    {
      "cell_type": "code",
      "source": [
        " df_multi.sort_index(level='idx2', ascending=False)"
      ],
      "metadata": {
        "id": "0AVhG5KLqid7"
      },
      "execution_count": null,
      "outputs": []
    },
    {
      "cell_type": "markdown",
      "source": [
        "# FILTERING DATAFRAME"
      ],
      "metadata": {
        "id": "carMzciapKu1"
      }
    },
    {
      "cell_type": "code",
      "source": [
        "df.sort_index(inplace=True)\n",
        "df.head()"
      ],
      "metadata": {
        "id": "MpQlIQqNpQRa"
      },
      "execution_count": null,
      "outputs": []
    },
    {
      "cell_type": "markdown",
      "source": [
        "## Filtering dengan posisi"
      ],
      "metadata": {
        "id": "mt-raau3x9vS"
      }
    },
    {
      "cell_type": "code",
      "source": [
        "#menampilkan data berdasarkan index\n",
        "df.loc[27]"
      ],
      "metadata": {
        "id": "24x2IxvqyBzJ"
      },
      "execution_count": null,
      "outputs": []
    },
    {
      "cell_type": "code",
      "source": [
        "#menampilkan data berdasarkan index dan kolom\n",
        "df.loc[27, 'payCardName']"
      ],
      "metadata": {
        "id": "ZrkaVtETyxi4"
      },
      "execution_count": null,
      "outputs": []
    },
    {
      "cell_type": "code",
      "source": [
        "#mengganti kolom index\n",
        "df_trans = df.set_index('transID')\n",
        "df_trans.head()"
      ],
      "metadata": {
        "id": "xgfAuZBXzFLC"
      },
      "execution_count": null,
      "outputs": []
    },
    {
      "cell_type": "code",
      "source": [
        "#menampilkan data berdasarkan index\n",
        "df_trans.loc[\"DJWR385V2U57TO\"]"
      ],
      "metadata": {
        "id": "Q9ucar64zPJI"
      },
      "execution_count": null,
      "outputs": []
    },
    {
      "cell_type": "code",
      "source": [
        "#filter 1 kolom\n",
        "df_trans['payCardName'].head()"
      ],
      "metadata": {
        "id": "DFrUzXnszvWW"
      },
      "execution_count": null,
      "outputs": []
    },
    {
      "cell_type": "code",
      "source": [
        "#filter multiple kolom\n",
        "df_trans[['payCardName','payCardID']].head()"
      ],
      "metadata": {
        "id": "7AZlpbXAz4Ix"
      },
      "execution_count": null,
      "outputs": []
    },
    {
      "cell_type": "code",
      "source": [
        "#iloc : filter 1 row\n",
        "# df.iloc[5]\n",
        "df.iloc[0, :] # tanda : melambangkan seluruh kolom/baris"
      ],
      "metadata": {
        "id": "-2qWNPK70I1B"
      },
      "execution_count": null,
      "outputs": []
    },
    {
      "cell_type": "code",
      "source": [
        "#iloc : Memilih Sel Berdasarkan Baris dan Kolom\n",
        "df.iloc[0, 5]"
      ],
      "metadata": {
        "id": "aUyXiKhk1p0o"
      },
      "execution_count": null,
      "outputs": []
    },
    {
      "cell_type": "code",
      "source": [
        "#iloc : Memilih sebagian Baris dan Kolom\n",
        "df.iloc[3:9, 4:8]\n"
      ],
      "metadata": {
        "id": "wLsCJt3g2Rwc"
      },
      "execution_count": null,
      "outputs": []
    },
    {
      "cell_type": "code",
      "source": [
        "#iloc : Memilih index negatif\n",
        "df.iloc[-1] #data terakhir"
      ],
      "metadata": {
        "id": "Ok8e0TXV2r4Q"
      },
      "execution_count": null,
      "outputs": []
    },
    {
      "cell_type": "markdown",
      "source": [
        "## Filtering dengan kondisi"
      ],
      "metadata": {
        "id": "eCmfEbxY3DRc"
      }
    },
    {
      "cell_type": "code",
      "source": [
        "#filter dengan kondisi\n",
        "print(len(df))\n",
        "df_female = df[df['payCardSex']=='F']\n",
        "# df_female = df[~(df['payCardSex']=='M')]\n",
        "print(len(df_female))\n",
        "df_female.head()"
      ],
      "metadata": {
        "id": "Fa9shDvH3KXf"
      },
      "execution_count": null,
      "outputs": []
    },
    {
      "cell_type": "code",
      "source": [
        "#filter dengan banyak kondisi : dan\n",
        "print(len(df))\n",
        "df_female_dki = df[(df['payCardSex']=='F') & (df['payCardBank']=='dki')]\n",
        "print(len(df_female_dki))\n",
        "df_female_dki.head()"
      ],
      "metadata": {
        "id": "O6Jut5vQ3qur"
      },
      "execution_count": null,
      "outputs": []
    },
    {
      "cell_type": "code",
      "source": [
        "#filter dengan banyak kondisi : atau\n",
        "print(len(df))\n",
        "df_filtered = df[(df['payCardBank']=='flazz') | (df['payCardBank']=='dki')]\n",
        "print(len(df_filtered))\n",
        "df_filtered.head()"
      ],
      "metadata": {
        "id": "DAgC6gjk5s4N"
      },
      "execution_count": null,
      "outputs": []
    },
    {
      "cell_type": "code",
      "source": [
        "#filter dengan kondisi berada dalam list\n",
        "print(len(df))\n",
        "df_filtered = df[df['payCardBank'].isin(['dki','flazz'])]\n",
        "print(len(df_filtered))\n",
        "df_filtered.head()"
      ],
      "metadata": {
        "id": "jrh0kzL956ce"
      },
      "execution_count": null,
      "outputs": []
    },
    {
      "cell_type": "markdown",
      "source": [
        "## Filtering dengan query"
      ],
      "metadata": {
        "id": "79hII_PD4SKS"
      }
    },
    {
      "cell_type": "code",
      "source": [
        "#filter dengan 1 kondisi\n",
        "print(len(df))\n",
        "df_filtered = df.query('payCardBirthDate > 2000')\n",
        "print(len(df_filtered))\n",
        "df_filtered.head()"
      ],
      "metadata": {
        "id": "nWOVjWHX4Qgt"
      },
      "execution_count": null,
      "outputs": []
    },
    {
      "cell_type": "code",
      "source": [
        "#filter dengan banyak kondisi\n",
        "print(len(df))\n",
        "df_filtered = df.query('payCardBirthDate > 2000 and payCardSex==\"M\"')\n",
        "print(len(df_filtered))\n",
        "df_filtered.head()"
      ],
      "metadata": {
        "id": "UBRbM4dH6Zn2"
      },
      "execution_count": null,
      "outputs": []
    },
    {
      "cell_type": "markdown",
      "source": [
        "# ADD COLUMS"
      ],
      "metadata": {
        "id": "OWJ9rFo27O4D"
      }
    },
    {
      "cell_type": "code",
      "source": [
        "#melakukan copy dataframe\n",
        "df_add =df.copy()"
      ],
      "metadata": {
        "id": "_mrmu6qm7RWD"
      },
      "execution_count": null,
      "outputs": []
    },
    {
      "cell_type": "code",
      "source": [
        "# Menambahkan kolom baru dengan nilai tetap\n",
        "df_add['negara'] = 'Indonesia'\n",
        "df_add.sample(5)"
      ],
      "metadata": {
        "id": "DVvisfMl7Z8j"
      },
      "execution_count": null,
      "outputs": []
    },
    {
      "cell_type": "code",
      "source": [
        "#Menambahkan Kolom Berdasarkan Operasi pada Kolom Lain\n",
        "df_add['payAmountDiscount'] = df_add['payAmount']*0.9\n",
        "df_add.sample(5)"
      ],
      "metadata": {
        "id": "4lGmEpt88DKc"
      },
      "execution_count": null,
      "outputs": []
    },
    {
      "cell_type": "code",
      "source": [
        "#Menambahkan Kolom Berdasarkan Kondisi\n",
        "df_add['ageCategory'] = ['Dewasa' if tahunLahir <= 2007 else 'Muda' for tahunLahir in df['payCardBirthDate']]\n",
        "df_add.sample(5)"
      ],
      "metadata": {
        "id": "sEdlnalT8qmB"
      },
      "execution_count": null,
      "outputs": []
    }
  ]
}