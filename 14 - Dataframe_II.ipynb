{
  "nbformat": 4,
  "nbformat_minor": 0,
  "metadata": {
    "colab": {
      "provenance": [],
      "toc_visible": true
    },
    "kernelspec": {
      "name": "python3",
      "display_name": "Python 3"
    },
    "language_info": {
      "name": "python"
    }
  },
  "cells": [
    {
      "cell_type": "code",
      "execution_count": null,
      "metadata": {
        "id": "63zSZaW7f-pt"
      },
      "outputs": [],
      "source": [
        "import pandas as pd\n",
        "import numpy as np\n",
        "\n",
        "#untuk dapat melihat seluruh kolom dan baris\n",
        "pd.set_option('display.max_columns', None)\n",
        "pd.set_option('display.max_rows', None)"
      ]
    },
    {
      "cell_type": "markdown",
      "source": [
        "# MERGE () DATAFRAME"
      ],
      "metadata": {
        "id": "ALS6-KIAoKq1"
      }
    },
    {
      "cell_type": "code",
      "source": [
        "data1 = {\n",
        "    'EmployeeID': ['E001', 'E002', 'E003', 'E004', 'E005'],\n",
        "    'EmpName': ['John Doe', 'Jane Smith', 'Peter Brown', 'Tom Johnson', 'Rita Patel'],\n",
        "    'DeptID': ['D001', 'D003', 'D001', 'D002', 'D006'],\n",
        "    'Location' : ['Bandung','Jakarta','Semarang','Surabaya','Yogyakarta']\n",
        "}\n",
        "employees = pd.DataFrame(data1)\n",
        "\n",
        "data2 = {\n",
        "    'DeptID': ['D001', 'D002', 'D003', 'D007'],\n",
        "    'DeptName': ['Sales', 'HR', 'Admin', 'Marketing'],\n",
        "    'Location' : ['Bandung','Yogyakarta','Semarang','Yogyakarta']\n",
        "}\n",
        "departments = pd.DataFrame(data2)"
      ],
      "metadata": {
        "id": "eUTseVIcqoxl"
      },
      "execution_count": null,
      "outputs": []
    },
    {
      "cell_type": "code",
      "source": [
        "employees"
      ],
      "metadata": {
        "id": "ah8a-oBHyGHq"
      },
      "execution_count": null,
      "outputs": []
    },
    {
      "cell_type": "code",
      "source": [
        "departments"
      ],
      "metadata": {
        "id": "X2Kt0DsvyHyt"
      },
      "execution_count": null,
      "outputs": []
    },
    {
      "cell_type": "markdown",
      "source": [
        "## Inner Join"
      ],
      "metadata": {
        "id": "2YtfOueHrTZ3"
      }
    },
    {
      "cell_type": "code",
      "source": [
        "#perintah default\n",
        "#secara default akan menggunakan key kolom yang sama dari ke 2 dataframe\n",
        "df3= pd.merge(employees,departments)\n",
        "# df3= pd.merge(employees,departments, how ='inner')\n",
        "df3"
      ],
      "metadata": {
        "id": "eD-lkQCBrSIY"
      },
      "execution_count": null,
      "outputs": []
    },
    {
      "cell_type": "code",
      "source": [
        "#menggunakan nama kolom\n",
        "df3=pd.merge(employees,departments, on='DeptID')\n",
        "df3"
      ],
      "metadata": {
        "id": "Tgo3pK2brsDd"
      },
      "execution_count": null,
      "outputs": []
    },
    {
      "cell_type": "code",
      "source": [
        "#jika nama kolom berbeda\n",
        "employees = employees.rename(columns={'DeptID': 'EmpDeptID'})\n",
        "print(employees)\n",
        "df3=pd.merge(employees,departments, left_on='EmpDeptID', right_on='DeptID')\n",
        "df3"
      ],
      "metadata": {
        "id": "yvf4NT5es1K3"
      },
      "execution_count": null,
      "outputs": []
    },
    {
      "cell_type": "code",
      "source": [
        "#jika menggunakan multiple column\n",
        "df3=pd.merge(employees,departments, left_on=['EmpDeptID','Location'], right_on=['DeptID','Location'])\n",
        "df3"
      ],
      "metadata": {
        "id": "C4uFOKZQ1JhI"
      },
      "execution_count": null,
      "outputs": []
    },
    {
      "cell_type": "code",
      "source": [
        "# merge menggunakan index\n",
        "df3 = pd.merge(employees,departments,left_index=True,right_index=True)\n",
        "df3"
      ],
      "metadata": {
        "id": "8kMyi5bXtH7G"
      },
      "execution_count": null,
      "outputs": []
    },
    {
      "cell_type": "markdown",
      "source": [
        "## Left Join"
      ],
      "metadata": {
        "id": "I74Oru3x1bzS"
      }
    },
    {
      "cell_type": "code",
      "source": [
        "df3=pd.merge(employees,departments, how ='left', left_on='EmpDeptID', right_on='DeptID')\n",
        "df3"
      ],
      "metadata": {
        "id": "Ayh2LO5_1eQG"
      },
      "execution_count": null,
      "outputs": []
    },
    {
      "cell_type": "markdown",
      "source": [
        "## Right Join\n"
      ],
      "metadata": {
        "id": "yp5MZ67H1pwH"
      }
    },
    {
      "cell_type": "code",
      "source": [
        "df3=pd.merge(employees,departments, how ='right', left_on='EmpDeptID', right_on='DeptID')\n",
        "df3"
      ],
      "metadata": {
        "id": "wR94VqpH1xqj"
      },
      "execution_count": null,
      "outputs": []
    },
    {
      "cell_type": "markdown",
      "source": [
        "## Outer Join"
      ],
      "metadata": {
        "id": "GcVsFfJR2Aqy"
      }
    },
    {
      "cell_type": "code",
      "source": [
        "df3=pd.merge(employees,departments, how ='outer', left_on='EmpDeptID', right_on='DeptID')\n",
        "df3"
      ],
      "metadata": {
        "id": "77C6Zp26107f"
      },
      "execution_count": null,
      "outputs": []
    },
    {
      "cell_type": "markdown",
      "source": [
        "# JOIN () DATAFRAME"
      ],
      "metadata": {
        "id": "_y9A7wBh3GrO"
      }
    },
    {
      "cell_type": "code",
      "source": [
        "df1 = pd.DataFrame({'A': ['A0', 'A1', 'A2'],\n",
        "                    'B': ['B0', 'B1', 'B2']},\n",
        "                   index=['K0', 'K1', 'K2'])\n",
        "\n",
        "df2 = pd.DataFrame({'C': ['C0', 'C1', 'C2'],\n",
        "                    'D': ['D0', 'D1', 'D2']},\n",
        "                   index=['K0', 'K2', 'K3'])"
      ],
      "metadata": {
        "id": "lr_YxT8B3Lfu"
      },
      "execution_count": null,
      "outputs": []
    },
    {
      "cell_type": "code",
      "source": [
        "df1"
      ],
      "metadata": {
        "id": "i04oJahi52Jj"
      },
      "execution_count": null,
      "outputs": []
    },
    {
      "cell_type": "code",
      "source": [
        "df2"
      ],
      "metadata": {
        "id": "VEck-EYD54ZR"
      },
      "execution_count": null,
      "outputs": []
    },
    {
      "cell_type": "code",
      "source": [
        "#left join\n",
        "result = df1.join(df2)\n",
        "result"
      ],
      "metadata": {
        "id": "5U-p_jw7551y"
      },
      "execution_count": null,
      "outputs": []
    },
    {
      "cell_type": "code",
      "source": [
        "#outer join\n",
        "result_outer = df1.join(df2, how='outer')\n",
        "result_outer"
      ],
      "metadata": {
        "id": "4W1NWh1l6Fav"
      },
      "execution_count": null,
      "outputs": []
    },
    {
      "cell_type": "code",
      "source": [
        "df1 = pd.DataFrame({'A': ['A0', 'A1', 'A2'],\n",
        "                    'X': ['X0', 'X1', 'X2']},\n",
        "                   index=['K0', 'K1', 'K2'])\n",
        "\n",
        "df2 = pd.DataFrame({'B': ['B0', 'B1', 'B2'],\n",
        "                    'X': ['Y0', 'Y1', 'Y2']},\n",
        "                   index=['K0', 'K2', 'K3'])\n",
        "\n",
        "#penggunaan suffix\n",
        "result = df1.join(df2, lsuffix='_df1', rsuffix='_df2')\n",
        "result"
      ],
      "metadata": {
        "id": "sNi6MOH16Piu"
      },
      "execution_count": null,
      "outputs": []
    },
    {
      "cell_type": "code",
      "source": [
        "# Membuat DataFrame df1\n",
        "df1 = pd.DataFrame({\n",
        "    'Key': ['K0', 'K1', 'K2', 'K3'],\n",
        "    'A': ['A0', 'A1', 'A2', 'A3'],\n",
        "    'B': ['B0', 'B1', 'B2', 'B3']\n",
        "})\n",
        "\n",
        "# Membuat DataFrame df2 dengan index yang sesuai\n",
        "df2 = pd.DataFrame({\n",
        "    'C': ['C0', 'C1', 'C2', 'C3'],\n",
        "    'D': ['D0', 'D1', 'D2', 'D3']\n",
        "}, index=['K0', 'K1', 'K2', 'K3'])\n",
        "\n",
        "#contoh penggunaan on\n",
        "result = df1.join(df2, on='Key')\n",
        "result"
      ],
      "metadata": {
        "id": "Ee7oYjbT6zSk"
      },
      "execution_count": null,
      "outputs": []
    },
    {
      "cell_type": "markdown",
      "source": [
        "# CONCAT()"
      ],
      "metadata": {
        "id": "HDsxsTHK9Ifg"
      }
    },
    {
      "cell_type": "code",
      "source": [
        "df1 = pd.DataFrame({'A': ['A0', 'A1'], 'B': ['B0', 'B1']})\n",
        "print(\"df1\")\n",
        "print(df1)\n",
        "\n",
        "df2 = pd.DataFrame({'A': ['A2', 'A3'], 'B': ['B2', 'B3']})\n",
        "print(\"df2\")\n",
        "print(df2)\n",
        "\n",
        "#Vertikal Concatenation\n",
        "result = pd.concat([df1, df2])\n",
        "result"
      ],
      "metadata": {
        "id": "RUwgSxav9MB1"
      },
      "execution_count": null,
      "outputs": []
    },
    {
      "cell_type": "code",
      "source": [
        "df3 = pd.DataFrame({'C': ['C0', 'C1'], 'D': ['D0', 'D1']})\n",
        "print(\"df3\")\n",
        "print(df3)\n",
        "\n",
        "#Horisontal Concatenation\n",
        "result = pd.concat([df1, df3], axis=1)\n",
        "result"
      ],
      "metadata": {
        "id": "D1xS0uIg-Fym"
      },
      "execution_count": null,
      "outputs": []
    },
    {
      "cell_type": "code",
      "source": [
        "#menggunakan ignore index\n",
        "result = pd.concat([df1, df2], ignore_index=True)\n",
        "result"
      ],
      "metadata": {
        "id": "18jGmzW2-S4s"
      },
      "execution_count": null,
      "outputs": []
    },
    {
      "cell_type": "code",
      "source": [
        "#Menggunakan keys untuk MultiIndex\n",
        "result = pd.concat([df1, df2], keys=['df1', 'df2'])\n",
        "result"
      ],
      "metadata": {
        "id": "ulZkPksV-ffp"
      },
      "execution_count": null,
      "outputs": []
    },
    {
      "cell_type": "code",
      "source": [
        "print(\"df1\")\n",
        "print(df1)\n",
        "\n",
        "df4 = pd.DataFrame({'B': ['B2', 'B3'], 'C': ['C2', 'C3']}, index=[1, 3])\n",
        "print(\"df4\")\n",
        "print(df4)\n",
        "\n",
        "#Inner Join\n",
        "result = pd.concat([df1, df4], axis=1, join='inner')\n",
        "result"
      ],
      "metadata": {
        "id": "5In8TK3Y-okc"
      },
      "execution_count": null,
      "outputs": []
    },
    {
      "cell_type": "markdown",
      "source": [
        "#APPEND()"
      ],
      "metadata": {
        "id": "9GnoDrbIAXWU"
      }
    },
    {
      "cell_type": "code",
      "source": [
        "import pandas as pd\n",
        "\n",
        "# Membuat DataFrame pertama\n",
        "df1 = pd.DataFrame({'A': [1, 2], 'B': [3, 4]})\n",
        "\n",
        "# Membuat DataFrame kedua\n",
        "df2 = pd.DataFrame({'A': [5, 6], 'B': [7, 8]})\n",
        "\n",
        "# Menggunakan append untuk menambahkan df2 ke df1\n",
        "# result = df1.append(df2)\n",
        "result = df1.append(df2, ignore_index=True)\n",
        "result"
      ],
      "metadata": {
        "id": "ZFPxGdHVAZLS"
      },
      "execution_count": null,
      "outputs": []
    },
    {
      "cell_type": "code",
      "source": [
        "# Membuat DataFrame ketiga\n",
        "df3 = pd.DataFrame({'A': [9, 10], 'B': [11, 12]})\n",
        "\n",
        "# Menambahkan df2 dan df3 ke df1 secara bersamaan\n",
        "result = df1.append([df2, df3])\n",
        "result"
      ],
      "metadata": {
        "id": "uvAhPkRIAzTH"
      },
      "execution_count": null,
      "outputs": []
    },
    {
      "cell_type": "markdown",
      "source": [
        "# AGGREGATE"
      ],
      "metadata": {
        "id": "4D-_19Y-F80E"
      }
    },
    {
      "cell_type": "code",
      "source": [
        "df = pd.DataFrame({\n",
        "    'Category': ['A', 'A', 'B', 'B'],\n",
        "    'Values': [10, 15, 10, 20]\n",
        "})\n",
        "df"
      ],
      "metadata": {
        "id": "SbNzE25EF79F"
      },
      "execution_count": null,
      "outputs": []
    },
    {
      "cell_type": "code",
      "source": [
        "# Menghitung rata-rata dari kolom `Values`\n",
        "df['Values'].agg('mean')\n",
        "df['Values'].mean()"
      ],
      "metadata": {
        "id": "oY91eLMPGNpi"
      },
      "execution_count": null,
      "outputs": []
    },
    {
      "cell_type": "code",
      "source": [
        "# Menggunakan list untuk menerapkan beberapa fungsi agregasi\n",
        "df['Values'].agg(['sum', 'mean'])"
      ],
      "metadata": {
        "id": "asWazjGlGZg2"
      },
      "execution_count": null,
      "outputs": []
    },
    {
      "cell_type": "code",
      "source": [
        "# Menggunakan dictionary untuk menerapkan fungsi yang berbeda ke kolom yang berbeda\n",
        "result = df.agg({'Values': ['sum', 'mean'], 'Category': 'count'})\n",
        "result"
      ],
      "metadata": {
        "id": "wqEYW_q5GpAN"
      },
      "execution_count": null,
      "outputs": []
    },
    {
      "cell_type": "markdown",
      "source": [
        "#GROUP"
      ],
      "metadata": {
        "id": "6e8_mkO1G2nE"
      }
    },
    {
      "cell_type": "code",
      "source": [
        "df = pd.DataFrame({\n",
        "    'Category': ['A', 'B', 'A', 'B', 'C', 'A', 'B', 'C'],\n",
        "    'Data': [4, 5, 6, 7, 8, 9, 10, 11]\n",
        "})\n",
        "df"
      ],
      "metadata": {
        "id": "JZ8pNDJmG6G9"
      },
      "execution_count": null,
      "outputs": []
    },
    {
      "cell_type": "code",
      "source": [
        "#Grouping Berdasarkan Satu Kolom\n",
        "grouped = df.groupby('Category')\n",
        "grouped.sum()"
      ],
      "metadata": {
        "id": "DIim2uhbHhmW"
      },
      "execution_count": null,
      "outputs": []
    },
    {
      "cell_type": "code",
      "source": [
        "#Grouping Berdasarkan Multiple Kolom\n",
        "df['Subcategory'] = ['One', 'One', 'One', 'Two', 'Two', 'Three', 'Two', 'One']\n",
        "grouped = df.groupby(['Category', 'Subcategory'])\n",
        "grouped.sum()"
      ],
      "metadata": {
        "id": "_Iy4hswHHt6-"
      },
      "execution_count": null,
      "outputs": []
    },
    {
      "cell_type": "code",
      "source": [
        "#Aggregasi\n",
        "grouped['Data'].agg([\"sum\",\"mean\",\"count\",\"std\"])"
      ],
      "metadata": {
        "id": "qe2g9jfPH29k"
      },
      "execution_count": null,
      "outputs": []
    },
    {
      "cell_type": "markdown",
      "source": [
        "#PIVOT TABLE"
      ],
      "metadata": {
        "id": "W5FBpeCsCdVD"
      }
    },
    {
      "cell_type": "code",
      "source": [
        "df = pd.DataFrame({\n",
        "    'Category': ['Fruit', 'Vegetable', 'Fruit', 'Vegetable', 'Fruit'],\n",
        "    'Item': ['Apple', 'Carrot', 'Banana', 'Broccoli', 'Orange'],\n",
        "    'Sales': [100, 150, 200, 130, 120],\n",
        "    'Quantity': [30, 45, 50, 40, 60]\n",
        "})\n",
        "df"
      ],
      "metadata": {
        "id": "jI5F9jIsCcgl"
      },
      "execution_count": null,
      "outputs": []
    },
    {
      "cell_type": "code",
      "source": [
        "#simple pivot table\n",
        "pivot_df = pd.pivot_table(df, values='Sales', index='Category', aggfunc='sum')\n",
        "pivot_df"
      ],
      "metadata": {
        "id": "T-RyR3HuClVb"
      },
      "execution_count": null,
      "outputs": []
    },
    {
      "cell_type": "code",
      "source": [
        "#Pivot Table dengan Multiple Aggregations\n",
        "pivot_df = pd.pivot_table(df, values='Sales', index='Category', aggfunc=['sum', 'mean'])\n",
        "pivot_df"
      ],
      "metadata": {
        "id": "7mWvcPK6Cz8N"
      },
      "execution_count": null,
      "outputs": []
    },
    {
      "cell_type": "code",
      "source": [
        "#Menambahkan Kolom pada Pivot Table\n",
        "pivot_df = pd.pivot_table(df, values='Sales', index='Category', columns='Item', aggfunc='sum', fill_value=0)\n",
        "pivot_df"
      ],
      "metadata": {
        "id": "wnjS77qJC_v6"
      },
      "execution_count": null,
      "outputs": []
    },
    {
      "cell_type": "markdown",
      "source": [
        "# LAMBDA FUNCTION"
      ],
      "metadata": {
        "id": "0LWcaPnRP4_h"
      }
    },
    {
      "cell_type": "code",
      "source": [
        "df = pd.DataFrame({\n",
        "    'A': [1, 2, 3],\n",
        "    'B': [4, 5, 8]\n",
        "})\n",
        "df"
      ],
      "metadata": {
        "id": "w3vlhhmYQAJz"
      },
      "execution_count": null,
      "outputs": []
    },
    {
      "cell_type": "markdown",
      "source": [
        "## APPLY\n",
        "Menggunakan apply() dengan Lambda\n",
        "Metode apply() digunakan untuk menerapkan fungsi sepanjang sumbu DataFrame, baik pada baris maupun kolom."
      ],
      "metadata": {
        "id": "BtMNRtCWSGpH"
      }
    },
    {
      "cell_type": "code",
      "source": [
        "df['C'] = df['A'].apply(lambda x: x + 10)\n",
        "df"
      ],
      "metadata": {
        "id": "47wTvXxdQEcF"
      },
      "execution_count": null,
      "outputs": []
    },
    {
      "cell_type": "code",
      "source": [
        "df['D'] = df.apply(lambda x:x.sum(), axis=1)\n",
        "df"
      ],
      "metadata": {
        "id": "5dY6kLlTTcai"
      },
      "execution_count": null,
      "outputs": []
    },
    {
      "cell_type": "code",
      "source": [
        "df.apply(lambda x: x.max() - x.min())"
      ],
      "metadata": {
        "id": "K-GvkYlpRnIA"
      },
      "execution_count": null,
      "outputs": []
    },
    {
      "cell_type": "markdown",
      "source": [
        "## APPLYMAP\n",
        "Menggunakan applymap() dengan Lambda\n",
        "Metode applymap() digunakan untuk menerapkan fungsi ke setiap elemen individu dalam DataFrame.\n",
        "\n"
      ],
      "metadata": {
        "id": "QI_oayHzSb5L"
      }
    },
    {
      "cell_type": "code",
      "source": [
        "df = df.applymap(lambda x: x * 2)\n",
        "df"
      ],
      "metadata": {
        "id": "G_MRwx9oQS33"
      },
      "execution_count": null,
      "outputs": []
    },
    {
      "cell_type": "code",
      "source": [
        "df.applymap(lambda x: '%.2f' % x)"
      ],
      "metadata": {
        "id": "YSpKXWSXSzmB"
      },
      "execution_count": null,
      "outputs": []
    }
  ]
}